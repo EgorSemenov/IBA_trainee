{
 "cells": [
  {
   "cell_type": "code",
   "execution_count": null,
   "metadata": {},
   "outputs": [],
   "source": [
    "# 1. написать свой range, если не указана верхняя граница, то до бесконечности"
   ]
  },
  {
   "cell_type": "code",
   "execution_count": null,
   "metadata": {},
   "outputs": [],
   "source": [
    "import math\n",
    "print(math.inf)\n",
    "def custom_range(*args):\n",
    "    if len(args) == 0:\n",
    "        i = 0\n",
    "        while 1:\n",
    "            yield i\n",
    "            i += 1\n",
    "    else: \n",
    "        for i in range(*args):\n",
    "            yield i\n",
    "            \n",
    "# print('with one argument:')\n",
    "# for i in custom_range(6):\n",
    "#     print(i)\n",
    "\n",
    "# print('with two arguments:')    \n",
    "# for i in custom_range(5,16):\n",
    "#     print(i)\n",
    "\n",
    "# print('with zero:')\n",
    "# for i in custom_range():\n",
    "#     print(i)"
   ]
  },
  {
   "cell_type": "code",
   "execution_count": null,
   "metadata": {},
   "outputs": [],
   "source": [
    "# 2. Номер билетика содержит четное количество цифр.\n",
    "# Билетик является счастливым, если сумма первой половины цифр == второй половине.\n",
    "# По номеру билеты определить, является ли он счастливым."
   ]
  },
  {
   "cell_type": "code",
   "execution_count": 1,
   "metadata": {},
   "outputs": [
    {
     "name": "stdout",
     "output_type": "stream",
     "text": [
      "True\n"
     ]
    }
   ],
   "source": [
    "#2 вариант первый\n",
    "ticket = 14122321\n",
    "def check_ticket_classic(t):\n",
    "    t = str(ticket)\n",
    "    l = len(t)>>1\n",
    "    a = tuple(int(x) for x in t)\n",
    "    return sum(a[:l])- sum(a[l:]) == 0\n",
    "print(check_ticket_classic(ticket))"
   ]
  },
  {
   "cell_type": "code",
   "execution_count": 3,
   "metadata": {},
   "outputs": [
    {
     "name": "stdout",
     "output_type": "stream",
     "text": [
      "True\n"
     ]
    }
   ],
   "source": [
    "#2 вариант вроде оригинальный :D\n",
    "ticket = 14122321\n",
    "def check_ticket_original(t):\n",
    "    t = str(ticket)\n",
    "    l = len(t)\n",
    "    summ = 0\n",
    "    for i in range(l>>1):\n",
    "        summ += int(t[i]) - int(t[l -1 - i])\n",
    "#         print(int(t[i]),'-',int(t[l -1 - i]),'=', int(t[i]) - int(t[l -1 - i]))\n",
    "    return bool(summ == 0)\n",
    "print(check_ticket_original(ticket))"
   ]
  },
  {
   "cell_type": "code",
   "execution_count": null,
   "metadata": {},
   "outputs": [],
   "source": []
  }
 ],
 "metadata": {
  "kernelspec": {
   "display_name": "Python 3",
   "language": "python",
   "name": "python3"
  },
  "language_info": {
   "codemirror_mode": {
    "name": "ipython",
    "version": 3
   },
   "file_extension": ".py",
   "mimetype": "text/x-python",
   "name": "python",
   "nbconvert_exporter": "python",
   "pygments_lexer": "ipython3",
   "version": "3.8.6"
  }
 },
 "nbformat": 4,
 "nbformat_minor": 4
}
