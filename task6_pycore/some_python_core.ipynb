{
 "cells": [
  {
   "cell_type": "code",
   "execution_count": null,
   "metadata": {},
   "outputs": [],
   "source": [
    "# 1. написать свой range, если не указана верхняя граница, то до бесконечности"
   ]
  },
  {
   "cell_type": "code",
   "execution_count": 2,
   "metadata": {},
   "outputs": [
    {
     "name": "stdout",
     "output_type": "stream",
     "text": [
      "with one argument:\n",
      "0\n",
      "1\n",
      "2\n",
      "3\n",
      "4\n",
      "5\n",
      "0\n",
      "1\n",
      "2\n",
      "3\n",
      "4\n",
      "5\n",
      "with two arguments:\n",
      "5\n",
      "6\n",
      "7\n",
      "8\n",
      "9\n",
      "10\n",
      "11\n",
      "12\n",
      "13\n",
      "14\n",
      "15\n",
      "5\n",
      "6\n",
      "7\n",
      "8\n",
      "9\n",
      "10\n",
      "11\n",
      "12\n",
      "13\n",
      "14\n",
      "15\n",
      "with three arguments:\n",
      "5\n",
      "8\n",
      "11\n",
      "14\n",
      "5\n",
      "8\n",
      "11\n",
      "14\n"
     ]
    }
   ],
   "source": [
    "import math\n",
    "def custom_range(*args):\n",
    "    if len(args) == 0:\n",
    "        i = 0\n",
    "        while 1:\n",
    "            yield i\n",
    "            i += 1\n",
    "    elif len(args) == 1:\n",
    "        s = 0\n",
    "        e = args[0]\n",
    "        while s < e:\n",
    "            yield s\n",
    "            s += 1\n",
    "    elif len(args) == 2:\n",
    "        s = args[0]\n",
    "        e = args[1]\n",
    "        while s < e:\n",
    "            yield s\n",
    "            s += 1\n",
    "    else:\n",
    "        s = args[0]\n",
    "        e = args[1]\n",
    "        while s < e:\n",
    "            yield s\n",
    "            s += args[2]\n",
    "print('with one argument:')\n",
    "for i in custom_range(6):\n",
    "    print(i)\n",
    "for i in range(6):\n",
    "    print(i)\n",
    "    \n",
    "print('with two arguments:')    \n",
    "for i in custom_range(5,16):\n",
    "    print(i)\n",
    "for i in range(5,16):\n",
    "    print(i)\n",
    "    \n",
    "print('with three arguments:')    \n",
    "for i in custom_range(5,16,3):\n",
    "    print(i)\n",
    "for i in range(5,16,3):\n",
    "    print(i)\n",
    "# print('with zero:')\n",
    "# for i in custom_range():\n",
    "#     print(i)"
   ]
  },
  {
   "cell_type": "code",
   "execution_count": null,
   "metadata": {},
   "outputs": [],
   "source": [
    "# 2. Номер билетика содержит четное количество цифр.\n",
    "# Билетик является счастливым, если сумма первой половины цифр == второй половине.\n",
    "# По номеру билеты определить, является ли он счастливым."
   ]
  },
  {
   "cell_type": "code",
   "execution_count": 1,
   "metadata": {},
   "outputs": [
    {
     "name": "stdout",
     "output_type": "stream",
     "text": [
      "True\n"
     ]
    }
   ],
   "source": [
    "#2 вариант первый\n",
    "ticket = 14122321\n",
    "def check_ticket_classic(t):\n",
    "    t = str(ticket)\n",
    "    l = len(t)>>1\n",
    "    a = tuple(int(x) for x in t)\n",
    "    return sum(a[:l])- sum(a[l:]) == 0\n",
    "print(check_ticket_classic(ticket))"
   ]
  },
  {
   "cell_type": "code",
   "execution_count": 3,
   "metadata": {},
   "outputs": [
    {
     "name": "stdout",
     "output_type": "stream",
     "text": [
      "True\n"
     ]
    }
   ],
   "source": [
    "#2 вариант вроде оригинальный :D\n",
    "ticket = 14122321\n",
    "def check_ticket_original(t):\n",
    "    t = str(ticket)\n",
    "    l = len(t)\n",
    "    summ = 0\n",
    "    for i in range(l>>1):\n",
    "        summ += int(t[i]) - int(t[l -1 - i])\n",
    "#         print(int(t[i]),'-',int(t[l -1 - i]),'=', int(t[i]) - int(t[l -1 - i]))\n",
    "    return bool(summ == 0)\n",
    "print(check_ticket_original(ticket))"
   ]
  },
  {
   "cell_type": "code",
   "execution_count": null,
   "metadata": {},
   "outputs": [],
   "source": []
  }
 ],
 "metadata": {
  "kernelspec": {
   "display_name": "Python 3",
   "language": "python",
   "name": "python3"
  },
  "language_info": {
   "codemirror_mode": {
    "name": "ipython",
    "version": 3
   },
   "file_extension": ".py",
   "mimetype": "text/x-python",
   "name": "python",
   "nbconvert_exporter": "python",
   "pygments_lexer": "ipython3",
   "version": "3.8.3"
  }
 },
 "nbformat": 4,
 "nbformat_minor": 4
}
