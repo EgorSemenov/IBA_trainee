{
 "cells": [
  {
   "cell_type": "code",
   "execution_count": 32,
   "metadata": {},
   "outputs": [],
   "source": [
    "import findspark\n",
    "findspark.init()"
   ]
  },
  {
   "cell_type": "code",
   "execution_count": 33,
   "metadata": {},
   "outputs": [],
   "source": [
    "from pyspark import SparkConf, SparkContext\n",
    "from pyspark.sql import SparkSession\n",
    "from pyspark.sql import functions as f\n",
    "from pyspark.sql.window import Window"
   ]
  },
  {
   "cell_type": "code",
   "execution_count": 34,
   "metadata": {},
   "outputs": [],
   "source": [
    "conf = SparkConf()\n",
    "sc = SparkContext(conf=conf)\n",
    "spark = SparkSession.builder.master('local').getOrCreate() "
   ]
  },
  {
   "cell_type": "code",
   "execution_count": 35,
   "metadata": {},
   "outputs": [],
   "source": [
    "alerts_df = spark.read.json('alerts.json')"
   ]
  },
  {
   "cell_type": "code",
   "execution_count": 36,
   "metadata": {},
   "outputs": [
    {
     "name": "stdout",
     "output_type": "stream",
     "text": [
      "root\n",
      " |-- alert_id: string (nullable = true)\n",
      " |-- entitled_assets: array (nullable = true)\n",
      " |    |-- element: string (containsNull = true)\n",
      " |-- event_source_type: string (nullable = true)\n",
      " |-- event_time: string (nullable = true)\n",
      " |-- instance_id: string (nullable = true)\n",
      " |-- serial: string (nullable = true)\n",
      "\n"
     ]
    }
   ],
   "source": [
    "alerts_df.printSchema()"
   ]
  },
  {
   "cell_type": "code",
   "execution_count": 37,
   "metadata": {},
   "outputs": [
    {
     "name": "stdout",
     "output_type": "stream",
     "text": [
      "+-----------+------------------+-------------------+-------------------+--------------------+----------+\n",
      "|   alert_id|   entitled_assets|  event_source_type|         event_time|         instance_id|    serial|\n",
      "+-----------+------------------+-------------------+-------------------+--------------------+----------+\n",
      "|ArbwAO2m4Oa|[qnTrje2, WT87cRS]|healthchecker_alert|2019-06-07 20:50:41|ypJdMVE8XfRgbq8E2...|cyN-1QeXWm|\n",
      "+-----------+------------------+-------------------+-------------------+--------------------+----------+\n",
      "only showing top 1 row\n",
      "\n"
     ]
    }
   ],
   "source": [
    "alerts_df.show(1)"
   ]
  },
  {
   "cell_type": "code",
   "execution_count": 38,
   "metadata": {},
   "outputs": [
    {
     "data": {
      "text/plain": [
       "10000"
      ]
     },
     "execution_count": 38,
     "metadata": {},
     "output_type": "execute_result"
    }
   ],
   "source": [
    "alerts_df.count()"
   ]
  },
  {
   "cell_type": "code",
   "execution_count": 39,
   "metadata": {},
   "outputs": [
    {
     "name": "stdout",
     "output_type": "stream",
     "text": [
      "root\n",
      " |-- alert_id: string (nullable = true)\n",
      " |-- entitled_assets: array (nullable = true)\n",
      " |    |-- element: string (containsNull = true)\n",
      " |-- event_source_type: string (nullable = true)\n",
      " |-- event_time: string (nullable = true)\n",
      " |-- instance_id: string (nullable = true)\n",
      " |-- serial: string (nullable = true)\n",
      " |-- event_timestamp: timestamp (nullable = true)\n",
      "\n",
      "+-----------+------------------+-------------------+-------------------+--------------------+----------+-------------------+\n",
      "|   alert_id|   entitled_assets|  event_source_type|         event_time|         instance_id|    serial|    event_timestamp|\n",
      "+-----------+------------------+-------------------+-------------------+--------------------+----------+-------------------+\n",
      "|ArbwAO2m4Oa|[qnTrje2, WT87cRS]|healthchecker_alert|2019-06-07 20:50:41|ypJdMVE8XfRgbq8E2...|cyN-1QeXWm|2019-06-07 20:50:41|\n",
      "+-----------+------------------+-------------------+-------------------+--------------------+----------+-------------------+\n",
      "only showing top 1 row\n",
      "\n"
     ]
    }
   ],
   "source": [
    "alerts_df = alerts_df.withColumn(\"event_timestamp\",\n",
    "        f.to_timestamp(\"event_time\", \"yyyy-MM-dd HH:mm:ss\"))\n",
    "alerts_df.printSchema()\n",
    "alerts_df.show(1)"
   ]
  },
  {
   "cell_type": "code",
   "execution_count": 40,
   "metadata": {},
   "outputs": [
    {
     "name": "stdout",
     "output_type": "stream",
     "text": [
      "3130\n",
      "+-----------+--------------------+-------------------+-------------------+--------------------+----------+-------------------+\n",
      "|   alert_id|     entitled_assets|  event_source_type|         event_time|         instance_id|    serial|    event_timestamp|\n",
      "+-----------+--------------------+-------------------+-------------------+--------------------+----------+-------------------+\n",
      "|1AlMxb4jeZ8|[VrE3Mr8, Z0SBQ7L...|healthchecker_alert|2019-06-11 12:46:18|Aygpbf1YPEpvn1CQj...|Ei3-SNCq7e|2019-06-11 12:46:18|\n",
      "+-----------+--------------------+-------------------+-------------------+--------------------+----------+-------------------+\n",
      "only showing top 1 row\n",
      "\n"
     ]
    }
   ],
   "source": [
    "alerts_df = alerts_df.filter((alerts_df.event_timestamp <= '2019-06-19 00:00:00') & (alerts_df.event_timestamp >= '2019-06-10 00:00:00'))\n",
    "print(alerts_df.count())\n",
    "alerts_df.show(1)"
   ]
  },
  {
   "cell_type": "code",
   "execution_count": 41,
   "metadata": {},
   "outputs": [
    {
     "name": "stdout",
     "output_type": "stream",
     "text": [
      "1062\n",
      "+-----------+--------------------+-------------------+-------------------+--------------------+----------+-------------------+\n",
      "|   alert_id|     entitled_assets|  event_source_type|         event_time|         instance_id|    serial|    event_timestamp|\n",
      "+-----------+--------------------+-------------------+-------------------+--------------------+----------+-------------------+\n",
      "|1AlMxb4jeZ8|[VrE3Mr8, Z0SBQ7L...|healthchecker_alert|2019-06-11 12:46:18|Aygpbf1YPEpvn1CQj...|Ei3-SNCq7e|2019-06-11 12:46:18|\n",
      "+-----------+--------------------+-------------------+-------------------+--------------------+----------+-------------------+\n",
      "only showing top 1 row\n",
      "\n"
     ]
    }
   ],
   "source": [
    "alerts_df = alerts_df.filter(alerts_df.event_source_type == 'healthchecker_alert')\n",
    "print(alerts_df.count())\n",
    "alerts_df.show(1)"
   ]
  },
  {
   "cell_type": "code",
   "execution_count": 42,
   "metadata": {},
   "outputs": [],
   "source": [
    "first_alerts_df = alerts_df.withColumn('date', f.split(alerts_df['event_timestamp'], ' ').getItem(0)).withColumn(\"date\",\n",
    "        f.to_timestamp(\"date\", \"yyyy-MM-dd\"))\n",
    "window = Window.partitionBy([f.col('alert_id'),f.col('date')]).orderBy(first_alerts_df['event_timestamp'].asc())\n",
    "first_alerts_df = first_alerts_df.select('*', f.rank().over(window).alias('rank')).filter(f.col('rank') <= 1).drop('rank')\n",
    "\n",
    "# temp_df = alerts_df.groupBy('alert_id', 'date').agg(f.min('event_timestamp').alias('event_timestamp'))"
   ]
  },
  {
   "cell_type": "code",
   "execution_count": 43,
   "metadata": {},
   "outputs": [
    {
     "name": "stdout",
     "output_type": "stream",
     "text": [
      "+-----------+--------------------+-------------------+-------------------+--------------------+----------+-------------------+-------------------+\n",
      "|   alert_id|     entitled_assets|  event_source_type|         event_time|         instance_id|    serial|    event_timestamp|               date|\n",
      "+-----------+--------------------+-------------------+-------------------+--------------------+----------+-------------------+-------------------+\n",
      "|XGo0nQHCZzR|[23EOWVe, 6qIJC7R...|healthchecker_alert|2019-06-16 09:49:19|a0xSU2hkczxtj0AoI...|znS-hwMYoM|2019-06-16 09:49:19|2019-06-16 00:00:00|\n",
      "|S2byDm68oNU|  [yX3zmwh, uBwVGky]|healthchecker_alert|2019-06-17 09:04:18|soSZ8ncvdQ5wwFVXJ...|MRQ-YS2Z7W|2019-06-17 09:04:18|2019-06-17 00:00:00|\n",
      "|W03mt1Aibkm|[9XSEE9j, fUFO9bL...|healthchecker_alert|2019-06-11 16:10:43|BV0DVoTnydpyY66MY...|Srn-ixyDps|2019-06-11 16:10:43|2019-06-11 00:00:00|\n",
      "|YgCI2UmvDhe|  [PG9M2zW, 56N9LN5]|healthchecker_alert|2019-06-17 10:38:41|BiLVjErIIEgwFKS28...|iiG-PBDH7w|2019-06-17 10:38:41|2019-06-17 00:00:00|\n",
      "|lxQRbsBwMR0|[XIHl90A, wNYsEKh...|healthchecker_alert|2019-06-11 01:20:49|72f4GMCCSlBDEWibr...|Sww-DGFqvG|2019-06-11 01:20:49|2019-06-11 00:00:00|\n",
      "+-----------+--------------------+-------------------+-------------------+--------------------+----------+-------------------+-------------------+\n",
      "only showing top 5 rows\n",
      "\n"
     ]
    },
    {
     "data": {
      "text/plain": [
       "629"
      ]
     },
     "execution_count": 43,
     "metadata": {},
     "output_type": "execute_result"
    }
   ],
   "source": [
    "first_alerts_df.show(5)\n",
    "first_alerts_df.count()"
   ]
  },
  {
   "cell_type": "code",
   "execution_count": 44,
   "metadata": {},
   "outputs": [],
   "source": [
    "first_alerts_df = first_alerts_df.withColumn('asset_id',f.explode('entitled_assets'))"
   ]
  },
  {
   "cell_type": "code",
   "execution_count": 45,
   "metadata": {},
   "outputs": [
    {
     "name": "stdout",
     "output_type": "stream",
     "text": [
      "+-----------+--------------------+-------------------+-------------------+--------------------+----------+-------------------+-------------------+--------+\n",
      "|   alert_id|     entitled_assets|  event_source_type|         event_time|         instance_id|    serial|    event_timestamp|               date|asset_id|\n",
      "+-----------+--------------------+-------------------+-------------------+--------------------+----------+-------------------+-------------------+--------+\n",
      "|XGo0nQHCZzR|[23EOWVe, 6qIJC7R...|healthchecker_alert|2019-06-16 09:49:19|a0xSU2hkczxtj0AoI...|znS-hwMYoM|2019-06-16 09:49:19|2019-06-16 00:00:00| 23EOWVe|\n",
      "|XGo0nQHCZzR|[23EOWVe, 6qIJC7R...|healthchecker_alert|2019-06-16 09:49:19|a0xSU2hkczxtj0AoI...|znS-hwMYoM|2019-06-16 09:49:19|2019-06-16 00:00:00| 6qIJC7R|\n",
      "|XGo0nQHCZzR|[23EOWVe, 6qIJC7R...|healthchecker_alert|2019-06-16 09:49:19|a0xSU2hkczxtj0AoI...|znS-hwMYoM|2019-06-16 09:49:19|2019-06-16 00:00:00| nTxy7lO|\n",
      "|S2byDm68oNU|  [yX3zmwh, uBwVGky]|healthchecker_alert|2019-06-17 09:04:18|soSZ8ncvdQ5wwFVXJ...|MRQ-YS2Z7W|2019-06-17 09:04:18|2019-06-17 00:00:00| yX3zmwh|\n",
      "|S2byDm68oNU|  [yX3zmwh, uBwVGky]|healthchecker_alert|2019-06-17 09:04:18|soSZ8ncvdQ5wwFVXJ...|MRQ-YS2Z7W|2019-06-17 09:04:18|2019-06-17 00:00:00| uBwVGky|\n",
      "+-----------+--------------------+-------------------+-------------------+--------------------+----------+-------------------+-------------------+--------+\n",
      "only showing top 5 rows\n",
      "\n"
     ]
    },
    {
     "data": {
      "text/plain": [
       "1896"
      ]
     },
     "execution_count": 45,
     "metadata": {},
     "output_type": "execute_result"
    }
   ],
   "source": [
    "first_alerts_df.show(5)\n",
    "first_alerts_df.count()"
   ]
  },
  {
   "cell_type": "code",
   "execution_count": 46,
   "metadata": {},
   "outputs": [],
   "source": [
    "first_alerts_df = first_alerts_df.withColumn('event_time', f.split(first_alerts_df['event_timestamp'], ' ').getItem(1))\n",
    "first_alerts_df = first_alerts_df.select('alert_id', 'asset_id', 'date', 'event_time')\n",
    "# first_alerts_df = first_alerts_df.select('alert_id', f.col(\"event_timestamp\").alias('event_time'), 'asset_id', 'date')"
   ]
  },
  {
   "cell_type": "code",
   "execution_count": 47,
   "metadata": {
    "scrolled": true
   },
   "outputs": [
    {
     "name": "stdout",
     "output_type": "stream",
     "text": [
      "+-----------+--------+-------------------+----------+\n",
      "|   alert_id|asset_id|               date|event_time|\n",
      "+-----------+--------+-------------------+----------+\n",
      "|XGo0nQHCZzR| 23EOWVe|2019-06-16 00:00:00|  09:49:19|\n",
      "|XGo0nQHCZzR| 6qIJC7R|2019-06-16 00:00:00|  09:49:19|\n",
      "|XGo0nQHCZzR| nTxy7lO|2019-06-16 00:00:00|  09:49:19|\n",
      "|S2byDm68oNU| yX3zmwh|2019-06-17 00:00:00|  09:04:18|\n",
      "|S2byDm68oNU| uBwVGky|2019-06-17 00:00:00|  09:04:18|\n",
      "+-----------+--------+-------------------+----------+\n",
      "only showing top 5 rows\n",
      "\n"
     ]
    },
    {
     "data": {
      "text/plain": [
       "1896"
      ]
     },
     "execution_count": 47,
     "metadata": {},
     "output_type": "execute_result"
    }
   ],
   "source": [
    "first_alerts_df.show(5)\n",
    "first_alerts_df.count()"
   ]
  },
  {
   "cell_type": "code",
   "execution_count": 48,
   "metadata": {},
   "outputs": [],
   "source": [
    "first_alerts_df.repartition(1).write.format(\"com.databricks.spark.csv\").option(\"header\", \"true\").save(\"alerts.csv\")\n",
    "#first_alerts_df.write.format(\"com.databricks.spark.csv\").option(\"header\", \"true\").save(\"alerts.csv\")"
   ]
  },
  {
   "cell_type": "code",
   "execution_count": 49,
   "metadata": {},
   "outputs": [],
   "source": [
    "sc.stop()"
   ]
  },
  {
   "cell_type": "code",
   "execution_count": null,
   "metadata": {},
   "outputs": [],
   "source": []
  }
 ],
 "metadata": {
  "kernelspec": {
   "display_name": "Python 3",
   "language": "python",
   "name": "python3"
  },
  "language_info": {
   "codemirror_mode": {
    "name": "ipython",
    "version": 3
   },
   "file_extension": ".py",
   "mimetype": "text/x-python",
   "name": "python",
   "nbconvert_exporter": "python",
   "pygments_lexer": "ipython3",
   "version": "3.8.3"
  }
 },
 "nbformat": 4,
 "nbformat_minor": 4
}
