{
 "cells": [
  {
   "cell_type": "code",
   "execution_count": 269,
   "metadata": {},
   "outputs": [],
   "source": [
    "import findspark\n",
    "findspark.init()"
   ]
  },
  {
   "cell_type": "code",
   "execution_count": 270,
   "metadata": {},
   "outputs": [],
   "source": [
    "from pyspark import SparkConf, SparkContext\n",
    "from pyspark.sql import SparkSession\n",
    "from pyspark.sql import functions as f"
   ]
  },
  {
   "cell_type": "code",
   "execution_count": 271,
   "metadata": {},
   "outputs": [],
   "source": [
    "conf = SparkConf()\n",
    "sc = SparkContext(conf=conf)\n",
    "spark = SparkSession.builder.master('local').getOrCreate() "
   ]
  },
  {
   "cell_type": "code",
   "execution_count": 272,
   "metadata": {},
   "outputs": [],
   "source": [
    "alerts_df = spark.read.json('alerts.json')"
   ]
  },
  {
   "cell_type": "code",
   "execution_count": 273,
   "metadata": {},
   "outputs": [
    {
     "name": "stdout",
     "output_type": "stream",
     "text": [
      "root\n",
      " |-- alert_id: string (nullable = true)\n",
      " |-- entitled_assets: array (nullable = true)\n",
      " |    |-- element: string (containsNull = true)\n",
      " |-- event_source_type: string (nullable = true)\n",
      " |-- event_time: string (nullable = true)\n",
      " |-- instance_id: string (nullable = true)\n",
      " |-- serial: string (nullable = true)\n",
      "\n"
     ]
    }
   ],
   "source": [
    "alerts_df.printSchema()"
   ]
  },
  {
   "cell_type": "code",
   "execution_count": 274,
   "metadata": {},
   "outputs": [
    {
     "name": "stdout",
     "output_type": "stream",
     "text": [
      "+-----------+------------------+-------------------+-------------------+--------------------+----------+\n",
      "|   alert_id|   entitled_assets|  event_source_type|         event_time|         instance_id|    serial|\n",
      "+-----------+------------------+-------------------+-------------------+--------------------+----------+\n",
      "|ArbwAO2m4Oa|[qnTrje2, WT87cRS]|healthchecker_alert|2019-06-07 20:50:41|ypJdMVE8XfRgbq8E2...|cyN-1QeXWm|\n",
      "+-----------+------------------+-------------------+-------------------+--------------------+----------+\n",
      "only showing top 1 row\n",
      "\n"
     ]
    }
   ],
   "source": [
    "alerts_df.show(1)"
   ]
  },
  {
   "cell_type": "code",
   "execution_count": 275,
   "metadata": {},
   "outputs": [
    {
     "data": {
      "text/plain": [
       "10000"
      ]
     },
     "execution_count": 275,
     "metadata": {},
     "output_type": "execute_result"
    }
   ],
   "source": [
    "alerts_df.count()"
   ]
  },
  {
   "cell_type": "code",
   "execution_count": 276,
   "metadata": {},
   "outputs": [
    {
     "name": "stdout",
     "output_type": "stream",
     "text": [
      "root\n",
      " |-- alert_id: string (nullable = true)\n",
      " |-- entitled_assets: array (nullable = true)\n",
      " |    |-- element: string (containsNull = true)\n",
      " |-- event_source_type: string (nullable = true)\n",
      " |-- event_time: string (nullable = true)\n",
      " |-- instance_id: string (nullable = true)\n",
      " |-- serial: string (nullable = true)\n",
      " |-- event_timestamp: timestamp (nullable = true)\n",
      "\n",
      "+-----------+------------------+-------------------+-------------------+--------------------+----------+-------------------+\n",
      "|   alert_id|   entitled_assets|  event_source_type|         event_time|         instance_id|    serial|    event_timestamp|\n",
      "+-----------+------------------+-------------------+-------------------+--------------------+----------+-------------------+\n",
      "|ArbwAO2m4Oa|[qnTrje2, WT87cRS]|healthchecker_alert|2019-06-07 20:50:41|ypJdMVE8XfRgbq8E2...|cyN-1QeXWm|2019-06-07 20:50:41|\n",
      "+-----------+------------------+-------------------+-------------------+--------------------+----------+-------------------+\n",
      "only showing top 1 row\n",
      "\n"
     ]
    }
   ],
   "source": [
    "alerts_df = alerts_df.withColumn(\"event_timestamp\",\n",
    "        f.to_timestamp(\"event_time\", \"yyyy-MM-dd HH:mm:ss\"))\n",
    "alerts_df.printSchema()\n",
    "alerts_df.show(1)"
   ]
  },
  {
   "cell_type": "code",
   "execution_count": 277,
   "metadata": {},
   "outputs": [
    {
     "name": "stdout",
     "output_type": "stream",
     "text": [
      "3130\n",
      "+-----------+--------------------+-------------------+-------------------+--------------------+----------+-------------------+\n",
      "|   alert_id|     entitled_assets|  event_source_type|         event_time|         instance_id|    serial|    event_timestamp|\n",
      "+-----------+--------------------+-------------------+-------------------+--------------------+----------+-------------------+\n",
      "|1AlMxb4jeZ8|[VrE3Mr8, Z0SBQ7L...|healthchecker_alert|2019-06-11 12:46:18|Aygpbf1YPEpvn1CQj...|Ei3-SNCq7e|2019-06-11 12:46:18|\n",
      "+-----------+--------------------+-------------------+-------------------+--------------------+----------+-------------------+\n",
      "only showing top 1 row\n",
      "\n"
     ]
    }
   ],
   "source": [
    "alerts_df = alerts_df.filter((alerts_df.event_timestamp <= '2019-06-19 00:00:00') & (alerts_df.event_timestamp >= '2019-06-10 00:00:00'))\n",
    "print(alerts_df.count())\n",
    "alerts_df.show(1)"
   ]
  },
  {
   "cell_type": "code",
   "execution_count": 278,
   "metadata": {},
   "outputs": [
    {
     "name": "stdout",
     "output_type": "stream",
     "text": [
      "1062\n",
      "+-----------+--------------------+-------------------+-------------------+--------------------+----------+-------------------+\n",
      "|   alert_id|     entitled_assets|  event_source_type|         event_time|         instance_id|    serial|    event_timestamp|\n",
      "+-----------+--------------------+-------------------+-------------------+--------------------+----------+-------------------+\n",
      "|1AlMxb4jeZ8|[VrE3Mr8, Z0SBQ7L...|healthchecker_alert|2019-06-11 12:46:18|Aygpbf1YPEpvn1CQj...|Ei3-SNCq7e|2019-06-11 12:46:18|\n",
      "+-----------+--------------------+-------------------+-------------------+--------------------+----------+-------------------+\n",
      "only showing top 1 row\n",
      "\n"
     ]
    }
   ],
   "source": [
    "alerts_df = alerts_df.filter(alerts_df.event_source_type == 'healthchecker_alert')\n",
    "print(alerts_df.count())\n",
    "alerts_df.show(1)"
   ]
  },
  {
   "cell_type": "code",
   "execution_count": 279,
   "metadata": {},
   "outputs": [],
   "source": [
    "temp_df = alerts_df.groupBy('alert_id').agg(f.min('event_timestamp').alias('event_timestamp'))"
   ]
  },
  {
   "cell_type": "code",
   "execution_count": 280,
   "metadata": {},
   "outputs": [
    {
     "name": "stdout",
     "output_type": "stream",
     "text": [
      "+-----------+-------------------+\n",
      "|   alert_id|    event_timestamp|\n",
      "+-----------+-------------------+\n",
      "|XGo0nQHCZzR|2019-06-11 05:33:45|\n",
      "|8x9rwGukOmB|2019-06-10 16:53:04|\n",
      "|FYFObaGlK4Q|2019-06-10 21:34:06|\n",
      "|2VsSDcyzFF7|2019-06-10 11:10:49|\n",
      "|Y7cWwyAi30w|2019-06-11 00:19:51|\n",
      "+-----------+-------------------+\n",
      "only showing top 5 rows\n",
      "\n"
     ]
    },
    {
     "data": {
      "text/plain": [
       "100"
      ]
     },
     "execution_count": 280,
     "metadata": {},
     "output_type": "execute_result"
    }
   ],
   "source": [
    "temp_df.show(5)\n",
    "temp_df.count()"
   ]
  },
  {
   "cell_type": "code",
   "execution_count": 281,
   "metadata": {},
   "outputs": [],
   "source": [
    "first_alerts_df = temp_df.join(alerts_df, ['alert_id','event_timestamp'])"
   ]
  },
  {
   "cell_type": "code",
   "execution_count": 282,
   "metadata": {},
   "outputs": [
    {
     "name": "stdout",
     "output_type": "stream",
     "text": [
      "+-----------+-------------------+--------------------+-------------------+-------------------+--------------------+----------+\n",
      "|   alert_id|    event_timestamp|     entitled_assets|  event_source_type|         event_time|         instance_id|    serial|\n",
      "+-----------+-------------------+--------------------+-------------------+-------------------+--------------------+----------+\n",
      "|1AlMxb4jeZ8|2019-06-11 12:46:18|[VrE3Mr8, Z0SBQ7L...|healthchecker_alert|2019-06-11 12:46:18|Aygpbf1YPEpvn1CQj...|Ei3-SNCq7e|\n",
      "|czQwIHOzm03|2019-06-12 01:10:03|[WbsKFGu, ekG3XXE...|healthchecker_alert|2019-06-12 01:10:03|eoSV6vRsEK0lrfQjd...|x23-uhxUOj|\n",
      "|XhBrfwWdYgU|2019-06-11 17:09:12|[jzOVqi2, 08eQJhb...|healthchecker_alert|2019-06-11 17:09:12|nS3G3YBEOYApGiTrb...|X8J-aUFAPn|\n",
      "|MT9HnkOcAUA|2019-06-10 03:38:31|[LVfoG2r, N0cheY7...|healthchecker_alert|2019-06-10 03:38:31|ai4Kzi73j2o6O6gi1...|4Oy-U52NvV|\n",
      "|8x9rwGukOmB|2019-06-10 16:53:04|[qRSHlOc, 6UvfMaY...|healthchecker_alert|2019-06-10 16:53:04|uoAIgVh2CskdRg6d0...|v0d-lZHim6|\n",
      "+-----------+-------------------+--------------------+-------------------+-------------------+--------------------+----------+\n",
      "only showing top 5 rows\n",
      "\n"
     ]
    },
    {
     "data": {
      "text/plain": [
       "100"
      ]
     },
     "execution_count": 282,
     "metadata": {},
     "output_type": "execute_result"
    }
   ],
   "source": [
    "first_alerts_df.show(5)\n",
    "first_alerts_df.count()"
   ]
  },
  {
   "cell_type": "code",
   "execution_count": 283,
   "metadata": {},
   "outputs": [],
   "source": [
    "first_alerts_df = first_alerts_df.withColumn('asset_id',f.explode('entitled_assets'))"
   ]
  },
  {
   "cell_type": "code",
   "execution_count": 284,
   "metadata": {},
   "outputs": [
    {
     "name": "stdout",
     "output_type": "stream",
     "text": [
      "+-----------+-------------------+--------------------+-------------------+-------------------+--------------------+----------+--------+\n",
      "|   alert_id|    event_timestamp|     entitled_assets|  event_source_type|         event_time|         instance_id|    serial|asset_id|\n",
      "+-----------+-------------------+--------------------+-------------------+-------------------+--------------------+----------+--------+\n",
      "|1AlMxb4jeZ8|2019-06-11 12:46:18|[VrE3Mr8, Z0SBQ7L...|healthchecker_alert|2019-06-11 12:46:18|Aygpbf1YPEpvn1CQj...|Ei3-SNCq7e| VrE3Mr8|\n",
      "|1AlMxb4jeZ8|2019-06-11 12:46:18|[VrE3Mr8, Z0SBQ7L...|healthchecker_alert|2019-06-11 12:46:18|Aygpbf1YPEpvn1CQj...|Ei3-SNCq7e| Z0SBQ7L|\n",
      "|1AlMxb4jeZ8|2019-06-11 12:46:18|[VrE3Mr8, Z0SBQ7L...|healthchecker_alert|2019-06-11 12:46:18|Aygpbf1YPEpvn1CQj...|Ei3-SNCq7e| aASolix|\n",
      "|czQwIHOzm03|2019-06-12 01:10:03|[WbsKFGu, ekG3XXE...|healthchecker_alert|2019-06-12 01:10:03|eoSV6vRsEK0lrfQjd...|x23-uhxUOj| WbsKFGu|\n",
      "|czQwIHOzm03|2019-06-12 01:10:03|[WbsKFGu, ekG3XXE...|healthchecker_alert|2019-06-12 01:10:03|eoSV6vRsEK0lrfQjd...|x23-uhxUOj| ekG3XXE|\n",
      "+-----------+-------------------+--------------------+-------------------+-------------------+--------------------+----------+--------+\n",
      "only showing top 5 rows\n",
      "\n"
     ]
    },
    {
     "data": {
      "text/plain": [
       "297"
      ]
     },
     "execution_count": 284,
     "metadata": {},
     "output_type": "execute_result"
    }
   ],
   "source": [
    "first_alerts_df.show(5)\n",
    "first_alerts_df.count()"
   ]
  },
  {
   "cell_type": "code",
   "execution_count": 285,
   "metadata": {},
   "outputs": [],
   "source": [
    "first_alerts_df = first_alerts_df.withColumn('date', f.split(first_alerts_df['event_timestamp'], ' ').getItem(0)).withColumn(\n",
    "                                            'event_time', f.split(first_alerts_df['event_timestamp'], ' ').getItem(1))\n",
    "first_alerts_df = first_alerts_df.select('alert_id', 'asset_id', 'date', 'event_time')\n",
    "# first_alerts_df = first_alerts_df.select('alert_id', f.col(\"event_timestamp\").alias('event_time'), 'asset_id', 'date')"
   ]
  },
  {
   "cell_type": "code",
   "execution_count": 286,
   "metadata": {
    "scrolled": true
   },
   "outputs": [
    {
     "name": "stdout",
     "output_type": "stream",
     "text": [
      "+-----------+--------+----------+----------+\n",
      "|   alert_id|asset_id|      date|event_time|\n",
      "+-----------+--------+----------+----------+\n",
      "|1AlMxb4jeZ8| VrE3Mr8|2019-06-11|  12:46:18|\n",
      "|1AlMxb4jeZ8| Z0SBQ7L|2019-06-11|  12:46:18|\n",
      "|1AlMxb4jeZ8| aASolix|2019-06-11|  12:46:18|\n",
      "|czQwIHOzm03| WbsKFGu|2019-06-12|  01:10:03|\n",
      "|czQwIHOzm03| ekG3XXE|2019-06-12|  01:10:03|\n",
      "+-----------+--------+----------+----------+\n",
      "only showing top 5 rows\n",
      "\n"
     ]
    },
    {
     "data": {
      "text/plain": [
       "297"
      ]
     },
     "execution_count": 286,
     "metadata": {},
     "output_type": "execute_result"
    }
   ],
   "source": [
    "first_alerts_df.show(5)\n",
    "first_alerts_df.count()"
   ]
  },
  {
   "cell_type": "code",
   "execution_count": 287,
   "metadata": {},
   "outputs": [],
   "source": [
    "# first_alerts_df.repartition(1).write.format(\"com.databricks.spark.csv\").option(\"header\", \"true\").save(\"alerts.csv\")\n",
    "first_alerts_df.write.format(\"com.databricks.spark.csv\").option(\"header\", \"true\").save(\"alerts.csv\")"
   ]
  },
  {
   "cell_type": "code",
   "execution_count": 288,
   "metadata": {},
   "outputs": [],
   "source": [
    "sc.stop()"
   ]
  },
  {
   "cell_type": "code",
   "execution_count": null,
   "metadata": {},
   "outputs": [],
   "source": []
  }
 ],
 "metadata": {
  "kernelspec": {
   "display_name": "Python 3",
   "language": "python",
   "name": "python3"
  },
  "language_info": {
   "codemirror_mode": {
    "name": "ipython",
    "version": 3
   },
   "file_extension": ".py",
   "mimetype": "text/x-python",
   "name": "python",
   "nbconvert_exporter": "python",
   "pygments_lexer": "ipython3",
   "version": "3.8.3"
  }
 },
 "nbformat": 4,
 "nbformat_minor": 4
}
